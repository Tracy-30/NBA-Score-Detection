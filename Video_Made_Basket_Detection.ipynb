{
 "cells": [
  {
   "cell_type": "code",
   "execution_count": 1,
   "metadata": {},
   "outputs": [],
   "source": [
    "import numpy as np\n",
    "\n",
    "from matplotlib import pyplot as plt\n",
    "plt.rcParams['axes.labelsize'] = 20\n",
    "plt.rcParams['xtick.labelsize'] = 16\n",
    "plt.rcParams['ytick.labelsize'] = 16\n",
    "%matplotlib inline\n",
    "import cv2\n",
    "import time"
   ]
  },
  {
   "cell_type": "markdown",
   "metadata": {},
   "source": [
    "## Step1: Image yolo_nba_detection"
   ]
  },
  {
   "cell_type": "code",
   "execution_count": 2,
   "metadata": {},
   "outputs": [
    {
     "name": "stdout",
     "output_type": "stream",
     "text": [
      "The dataset contains images of the following items: \n",
      " ['Player', 'Judge', 'Basketball', 'Empty_Basket_Left', 'Made_Basket_Left', 'Empty_Basket_Right', 'Made_Basket_Right']\n"
     ]
    }
   ],
   "source": [
    "# Load Trained weights and model cfg\n",
    "# set path for data names\n",
    "nba_class_file = \"trained_yolo/nba_detection.names\"\n",
    "# read nba_detection object names\n",
    "LABELS = open(nba_class_file).read().strip().split(\"\\n\")\n",
    "print('The dataset contains images of the following items: \\n', LABELS)\n",
    "\n",
    "# configure YOLOv3\n",
    "# set paths to config files\n",
    "yolov3_weight_file = \"trained_yolo/yolov3_custom2_final.weights\"\n",
    "yolov3_config_file = \"trained_yolo/yolov3.cfg\"\n",
    "\n",
    "# built YOLO network\n",
    "net = cv2.dnn.readNetFromDarknet(yolov3_config_file, yolov3_weight_file)\n",
    "\n",
    "# # print information about all layers in the YOLO v3 model\n",
    "# # get all layer names in the network\n",
    "# ln = net.getLayerNames()\n",
    "# print(\"YOLO v3 has {} layers:\".format(len(ln)))\n",
    "# print(ln)\n",
    "# # the output layers are those with unconnected output\n",
    "# ln_out = [ln[i - 1] for i in net.getUnconnectedOutLayers()]\n",
    "# print(\"\\nNames of YOLO v3 output layers: \\n{}\".format(ln_out))"
   ]
  },
  {
   "cell_type": "code",
   "execution_count": 3,
   "metadata": {},
   "outputs": [],
   "source": [
    "# Image NBA Detection\n",
    "def yolo_detect(model,image,vis_raw_img=False):\n",
    "    '''READ IMAGE FILE'''\n",
    "    # preprocess image data with rescaling and resizing, using RGB which is unusual for opencv\n",
    "    blob = cv2.dnn.blobFromImage(image, 1 / 255.0, (416, 416), crop=False)\n",
    "    # print('Format of blob: {}'.format(blob.shape))\n",
    "    # we need to convert the blob in order to be able to show it\n",
    "    blob_to_show = blob[0, :, :, :].transpose(1, 2, 0)\n",
    "    # print('Format of blob_to_show: {}'.format(blob_to_show.shape))\n",
    "    (h, w) = image.shape[:2]\n",
    "\n",
    "    # visualize result of preprocessing\n",
    "    if vis_raw_img:\n",
    "        plt.figure(figsize = (6,6))\n",
    "        plt.imshow(blob_to_show)\n",
    "        plt.title('Resized Raw Image', size = 16)\n",
    "        plt.show()\n",
    "\n",
    "    '''MAKE PREDICTION'''\n",
    "    ##### the actual inference #########\n",
    "    ln = model.getLayerNames()\n",
    "    ln_out = [ln[i - 1] for i in net.getUnconnectedOutLayers()]\n",
    "    # set a new input to the network\n",
    "    model.setInput(blob)\n",
    "    # mesasure the time needed for the object detection \n",
    "    start = time.time()\n",
    "    layerOutputs = model.forward(ln_out)\n",
    "    end = time.time()\n",
    "    # Showing spent time for forward pass\n",
    "    # print('YOLO v3 took {:.4f} seconds'.format(end - start))\n",
    "\n",
    "    '''MODIFY LAYER OUTPUTS'''\n",
    "    classes, scores, boxes = get_result(w,h,layerOutputs) \n",
    "    # Apply Non-max supression\n",
    "    # print('we start with ', len(scores), 'indices')\n",
    "    nms_idx = yolo_non_max_supression(boxes, scores, score_threshold=0.3, iou_threshold = 0.3)\n",
    "    # print(len(nms_idx), 'indices are kept:', nms_idx)\n",
    "\n",
    "    basket_label, basket_img = basket_extraction(image,nms_idx,classes,boxes)\n",
    "\n",
    "    # '''VISUALIZE YOLOv3 DETECTED RESULTS'''\n",
    "    # if vis: \n",
    "    #     result_img = vis_result(image,nms_idx,classes,scores,boxes)\n",
    "    #     return result_img,detected_boxes,basket_img,basket_label\n",
    "\n",
    "    return nms_idx, classes,scores,boxes,basket_img,basket_label\n",
    "    \n",
    "''' Function get_result:\n",
    "    # - merges the three outputs \n",
    "    # - removes all empty bounding boxes (i.e. class_probability < threshold ), \n",
    "    # - rescales the bounding boxes\n",
    "'''\n",
    "def get_result(w,h,layerOutputs,probability_minimum = 0.4):\n",
    "    # Preparing lists for detected bounding boxes, obtained confidences and class's number\n",
    "    boxes = []\n",
    "    scores = []\n",
    "    classes = []\n",
    "    # iterating through all three outputs\n",
    "    for result in layerOutputs:\n",
    "        # Going through all bounding boxes from current output layer\n",
    "        for detection in result:\n",
    "            # Getting class for current object\n",
    "            scores_current = detection[5:]\n",
    "            class_current = np.argmax(scores_current)\n",
    "            # Getting probability for current object\n",
    "            probability_current = scores_current[class_current]\n",
    "            # Getting object confidence for current object\n",
    "            object_confidence = detection[4]\n",
    "            # Eliminating weak predictions by minimum probability\n",
    "            if probability_current > probability_minimum:\n",
    "            #if probability_current*object_confidence > probability_minimum:  # this is an alternative way\n",
    "                # Scaling bounding box coordinates to the initial image size\n",
    "                # by elementwise multiplying them with the width and height of the image\n",
    "                box_current = np.array(detection[0:4]) * np.array([w, h, w, h])\n",
    "                # YOLO data format keeps center of detected box and its width and height\n",
    "                # here we reconstruct the top left and bottom right corner\n",
    "                x_center, y_center, box_width, box_height = box_current.astype('int')\n",
    "                x_min = int(x_center - (box_width / 2))\n",
    "                y_min = int(y_center - (box_height / 2))\n",
    "                x_max = int(x_center + (box_width / 2))\n",
    "                y_max = int(y_center + (box_height / 2))\n",
    "\n",
    "                # Adding results into prepared lists\n",
    "                boxes.append([x_min, y_min, x_max, y_max])\n",
    "                scores.append(float(probability_current))\n",
    "                classes.append(class_current)\n",
    "                \n",
    "    return np.array(classes), np.array(scores), np.array(boxes)\n",
    "\n",
    "\n",
    "''' Function basket_extraction:\n",
    "    # - Given Yolo's result, extract the detected basket image\n",
    "'''\n",
    "\n",
    "def basket_extraction(img,box_indice,classes,boxes):\n",
    "    def pt_map(pt): # make sure positive\n",
    "        if pt < 0: return 0\n",
    "        else: return pt\n",
    "    # plt.imshow(img)\n",
    "    for box in box_indice:\n",
    "        if LABELS[classes[box]] in ['Empty_Basket_Left', 'Made_Basket_Left', 'Empty_Basket_Right', 'Made_Basket_Right']:\n",
    "            pt1_x, pt1_y = int(boxes[box, 0]), int(boxes[box, 1])\n",
    "            pt2_x, pt2_y = int(boxes[box, 2]), int(boxes[box, 3])\n",
    "            pt1_x, pt1_y, pt2_x, pt2_y = pt_map(pt1_x),pt_map(pt1_y),pt_map(pt2_x),pt_map(pt2_y)\n",
    "            return LABELS[classes[box]], img[pt1_y:pt2_y+1,pt1_x:pt2_x+1,:].copy()\n",
    "    return 'Fail_Detecting_Basket',None\n",
    "\n",
    "\n",
    "'''\n",
    "Function vis_result: \n",
    "    # - Draw bounding boxes on the image and show\n",
    "    # - parameters bounding box\n",
    "    # - assign rondom colours to the class labels, these are used to draw the bounding boxes\n",
    "'''\n",
    "    \n",
    "def vis_result(image,box_indice,classes,scores,boxes,vis=False):\n",
    "    # determine image size -> will be needed to rescale bounding boxes\n",
    "    (h, w) = image.shape[:2]\n",
    "    np.random.seed(45)\n",
    "    COLORS = np.random.randint(0, 255, size=(len(LABELS), 3), dtype=\"uint8\")\n",
    "    border_thickness = 2\n",
    "    # parameters text\n",
    "    font = cv2.FONT_HERSHEY_SIMPLEX\n",
    "    font_scale = 0.7\n",
    "    text_thickness = 2\n",
    "    text_offset_x = 7\n",
    "    text_offset_y = 7\n",
    "    for box in box_indice:\n",
    "        # draw the bounding box\n",
    "        color = tuple([int(c) for c in COLORS[classes[box]]])\n",
    "\n",
    "        (pt1_x, pt1_y) = (int(boxes[box, 0]), int(boxes[box, 1]))\n",
    "        (pt2_x, pt2_y) = (int(boxes[box, 2]), int(boxes[box, 3]))\n",
    "        \n",
    "        cv2.rectangle(image, (pt1_x, pt1_y), (pt2_x, pt2_y), color, border_thickness)\n",
    "        \n",
    "        # print the label\n",
    "        text = \"{}: {:.4f}\".format(LABELS[classes[box]], scores[box])\n",
    "        (t_w, t_h), _ = cv2.getTextSize(text, font, fontScale=font_scale, thickness=text_thickness)\n",
    "        (text_box_x1, text_box_y1) = (pt1_x, pt1_y - (t_h + text_offset_y))\n",
    "        (test_box_x2, text_box_y2) = ((pt1_x + t_w + text_offset_x), pt1_y)\n",
    "        \n",
    "        cv2.rectangle(image, (text_box_x1, text_box_y1), (test_box_x2, text_box_y2), color, cv2.FILLED)   \n",
    "        cv2.putText(image, text, (pt1_x + text_offset_x,pt1_y - 5), font, font_scale, \n",
    "                                    (255, 255, 255), text_thickness)\n",
    "    if vis:\n",
    "        plt.figure(figsize=(w*0.05, h*0.05))\n",
    "        plt.title('YOLOv3_Detected Image',size=80)\n",
    "        plt.imshow(image)\n",
    "        plt.axis('off')\n",
    "        plt.show()\n",
    "    return image\n",
    "\n",
    "'''\n",
    "Function yolo_non_max_supression:\n",
    "    # - Apply Non-Max Supression\n",
    "    # - Remove overlapping boxes\n",
    "'''\n",
    "\n",
    "def yolo_non_max_supression(boxes, scores, score_threshold=0.5, iou_threshold=0.3):\n",
    "\n",
    "    #  Apply Non-max supression.\n",
    "    #    boxes : Array of coordinates of boxes (x1, y1, x2, y2)\n",
    "    #    scores : Array of confidence scores with respect to boxes\n",
    "    #    score_threshold : Threshold, higher will be kept\n",
    "    #    iou_threshold : if iou is below threshold, keep both boxes\n",
    "    #    Return : Indices of boxes and scores to be kept\n",
    "\n",
    "    def iou(box1, box2):\n",
    "        # Caculate IoU between box1 and box2\n",
    "        #    box1/box2 : (x1, y1, x2, y2), where x1 and y1 are coordinates of upper left corner, \n",
    "        #                x2 and y2 are of lower right corner\n",
    "        #    return: IoU\n",
    "        \n",
    "        # get the area of intersection \n",
    "        # top left corner\n",
    "        xi1 = max(box1[0], box2[0])\n",
    "        yi1 = max(box1[1], box2[1])\n",
    "        # bottom right corner\n",
    "        xi2 = min(box1[2], box2[2])\n",
    "        yi2 = min(box1[3], box2[3])\n",
    "\n",
    "        # max answers questioon: is there and intersection at all\n",
    "        inter_area = max(xi2 - xi1, 0) * max(yi2 - yi1, 0)\n",
    "        \n",
    "        # get the area of union\n",
    "        box1_area = (box1[2] - box1[0]) * (box1[3] - box1[1])\n",
    "        box2_area = (box2[2] - box2[0]) * (box2[3] - box2[1])\n",
    "        \n",
    "        union_area = box1_area + box2_area - inter_area\n",
    "        \n",
    "        # get iou\n",
    "        iou = inter_area / union_area\n",
    "        \n",
    "        return iou\n",
    "    \n",
    "    sorted_idx = np.argsort(scores)[::-1]\n",
    "    \n",
    "    remove = []\n",
    "    for i in np.arange(len(scores)):\n",
    "        if i in remove:   # already processed\n",
    "            continue\n",
    "        if scores[sorted_idx[i]] < score_threshold:   # score below threshold?\n",
    "            remove.append(i)\n",
    "            continue\n",
    "            \n",
    "        for j in np.arange(i+1, len(scores)):     # go through remaining boxes of list\n",
    "            if scores[sorted_idx[j]] < score_threshold:\n",
    "                remove.append(j)\n",
    "                continue    \n",
    "            overlap = iou(boxes[sorted_idx[i]], boxes[sorted_idx[j]])\n",
    "            if overlap > iou_threshold:   # remove second box, which has smaller score due to sorting\n",
    "                remove.append(j)\n",
    "                \n",
    "    sorted_idx = np.delete(sorted_idx, remove)  # clean the list\n",
    "\n",
    "    return sorted(sorted_idx)\n",
    "\n",
    "def bgr2rgb(cvimg):\n",
    "    return np.dstack((cvimg[:,:,2],cvimg[:,:,1],cvimg[:,:,0]))\n",
    "def rgb2bgr(img):\n",
    "    return np.dstack((img[:,:,2],img[:,:,1],img[:,:,0]))"
   ]
  },
  {
   "cell_type": "code",
   "execution_count": 4,
   "metadata": {},
   "outputs": [
    {
     "name": "stdout",
     "output_type": "stream",
     "text": [
      "Result for Class LE: 1/10 accuracy is 0.1\n",
      "Result for Class LM: 0/15 accuracy is 0.0\n",
      "Result for Class RE: 4/10 accuracy is 0.4\n",
      "Result for Class RM: 6/15 accuracy is 0.4\n",
      "Result for 50 test images: 11/50 accuracy is 0.22\n"
     ]
    }
   ],
   "source": [
    "# Test Performance of RAW Yolo\n",
    "import os\n",
    "class_dir = ['LE','LM','RE','RM']\n",
    "overall_c,overall = 0,0 \n",
    "for i in range(len(class_dir)):\n",
    "    label = class_dir[i]\n",
    "    data = os.listdir('Test_Set/'+ label)\n",
    "    correct_c = 0\n",
    "    for pic in data:\n",
    "        path = 'Test_Set/'+ label + '/' + pic\n",
    "        image = bgr2rgb(cv2.imread(path))\n",
    "        nms_idx, classes,scores,boxes,basket_img,basket_label = yolo_detect(model=net,image=image,vis_raw_img=False)\n",
    "        if basket_label == LABELS[i+3]: correct_c+=1\n",
    "        # print(basket_label)\n",
    "    overall_c += correct_c\n",
    "    overall += len(data)\n",
    "    print(\"Result for Class {}: {}/{} accuracy is {}\".format(label,correct_c,len(data),round(correct_c/len(data),3)))\n",
    "print(\"Result for {} test images: {}/{} accuracy is {}\".format(overall,overall_c,overall,round(overall_c/overall,3)))"
   ]
  },
  {
   "cell_type": "markdown",
   "metadata": {},
   "source": [
    "# Step2: Train an CNN to classify Left_Basket/Right_Basket"
   ]
  },
  {
   "cell_type": "code",
   "execution_count": 5,
   "metadata": {},
   "outputs": [],
   "source": [
    "# Do this because we found that Yolo mostly mistake between left/right basket\n",
    "import os   # file operations\n",
    "from tensorflow.keras import layers\n",
    "from tensorflow.keras import Model"
   ]
  },
  {
   "cell_type": "code",
   "execution_count": 9,
   "metadata": {},
   "outputs": [],
   "source": [
    "CNN_LABELS = ['Left_Basket','Right_Basket']\n",
    "\n",
    "def canny_filter(img): # apply canny filter on basket img\n",
    "    gray_img = cv2.cvtColor(img, cv2.COLOR_BGR2GRAY)\n",
    "    edges_img = cv2.Canny(gray_img,50,300)\n",
    "    return edges_img\n",
    "\n",
    "\n",
    "def build_dataset(preprocess,Set): # store data in numpy format\n",
    "    X,y = [],[]\n",
    "    for label in CNN_LABELS:\n",
    "        base_dir = 'cnn_basket_detection_data/' + Set + '/' + label\n",
    "        for data in os.listdir(base_dir):\n",
    "            path = base_dir + '/' + data\n",
    "            # print(path)\n",
    "            img = cv2.imread(path)\n",
    "            img = cv2.resize(img,(100,100),dst=True,interpolation=cv2.INTER_AREA) # resize\n",
    "            if preprocess == 'canny': img = canny_filter(img) # apply filter\n",
    "            X.append(img.flatten())\n",
    "            y.append(CNN_LABELS.index(label))\n",
    "    X = np.array(X)\n",
    "    y = np.array(y)\n",
    "    return X,y\n",
    "\n",
    "X_train,y_train = build_dataset(\"canny\",\"Train_Set\")\n",
    "X_val,y_val = build_dataset(\"canny\",\"Val_Set\")"
   ]
  },
  {
   "cell_type": "code",
   "execution_count": 10,
   "metadata": {},
   "outputs": [
    {
     "name": "stdout",
     "output_type": "stream",
     "text": [
      "(250, 10000) (250,)\n",
      "(49, 10000) (49,)\n",
      "(250, 100, 100, 1)\n",
      "(49, 100, 100, 1)\n"
     ]
    }
   ],
   "source": [
    "print(X_train.shape,y_train.shape)\n",
    "print(X_val.shape,y_val.shape)\n",
    "img_rows, img_cols = 100, 100\n",
    "X_train = X_train.reshape(X_train.shape[0], img_rows, img_cols, 1)\n",
    "X_val = X_val.reshape(X_val.shape[0], img_rows, img_cols, 1)\n",
    "print(X_train.shape)\n",
    "print(X_val.shape)"
   ]
  },
  {
   "cell_type": "code",
   "execution_count": 11,
   "metadata": {},
   "outputs": [
    {
     "name": "stdout",
     "output_type": "stream",
     "text": [
      "Model: \"sequential\"\n",
      "_________________________________________________________________\n",
      " Layer (type)                Output Shape              Param #   \n",
      "=================================================================\n",
      " conv2d (Conv2D)             (None, 98, 98, 32)        320       \n",
      "                                                                 \n",
      " max_pooling2d (MaxPooling2D  (None, 49, 49, 32)       0         \n",
      " )                                                               \n",
      "                                                                 \n",
      " conv2d_1 (Conv2D)           (None, 47, 47, 64)        18496     \n",
      "                                                                 \n",
      " max_pooling2d_1 (MaxPooling  (None, 23, 23, 64)       0         \n",
      " 2D)                                                             \n",
      "                                                                 \n",
      " dropout (Dropout)           (None, 23, 23, 64)        0         \n",
      "                                                                 \n",
      " flatten (Flatten)           (None, 33856)             0         \n",
      "                                                                 \n",
      " dense (Dense)               (None, 128)               4333696   \n",
      "                                                                 \n",
      " dropout_1 (Dropout)         (None, 128)               0         \n",
      "                                                                 \n",
      " dense_1 (Dense)             (None, 1)                 129       \n",
      "                                                                 \n",
      "=================================================================\n",
      "Total params: 4,352,641\n",
      "Trainable params: 4,352,641\n",
      "Non-trainable params: 0\n",
      "_________________________________________________________________\n"
     ]
    },
    {
     "name": "stderr",
     "output_type": "stream",
     "text": [
      "2022-05-10 19:17:38.305388: I tensorflow/core/platform/cpu_feature_guard.cc:151] This TensorFlow binary is optimized with oneAPI Deep Neural Network Library (oneDNN) to use the following CPU instructions in performance-critical operations:  AVX2 AVX512F FMA\n",
      "To enable them in other operations, rebuild TensorFlow with the appropriate compiler flags.\n"
     ]
    }
   ],
   "source": [
    "# build the CNN network\n",
    "import keras\n",
    "from keras.models import Sequential\n",
    "from keras.layers import Dense, Dropout\n",
    "from keras.layers import Conv2D, MaxPooling2D, Flatten\n",
    "from keras import backend as K\n",
    "\n",
    "# use sequential api\n",
    "\n",
    "\n",
    "model = Sequential()\n",
    "\n",
    "# input shape: 100*100\n",
    "model.add(Conv2D(32, kernel_size=(3, 3), activation='relu', \n",
    "                    input_shape=(100,100,1))) \n",
    "                 \n",
    "model.add(MaxPooling2D(pool_size=(2, 2)))\n",
    "\n",
    "model.add(Conv2D(64, (3, 3), activation='relu'))\n",
    "model.add(MaxPooling2D(pool_size=(2, 2)))\n",
    "\n",
    "model.add(Dropout(0.25))\n",
    "model.add(Flatten())\n",
    "model.add(Dense(128, activation='relu'))\n",
    "model.add(Dropout(0.5))\n",
    "model.add(Dense(1, activation='sigmoid'))\n",
    "\n",
    "model.summary()"
   ]
  },
  {
   "cell_type": "code",
   "execution_count": 12,
   "metadata": {},
   "outputs": [],
   "source": [
    "from tensorflow.keras.optimizers import Adam\n",
    "\n",
    "# compile the model with loss function, optimizer, evaluation metrics\n",
    "model.compile(loss=keras.losses.binary_crossentropy,\n",
    "              optimizer=Adam(learning_rate=1e-5),\n",
    "              metrics=['accuracy'])\n",
    "\n",
    "# set batch and epoch\n",
    "batch_size = 12\n",
    "epochs = 100\n",
    "\n",
    "# train the model\n",
    "# history = model.fit(X_train, y_train,\n",
    "#          batch_size=batch_size,\n",
    "#          epochs=epochs,\n",
    "#          verbose=1,\n",
    "#          validation_data=(X_val, y_val))\n",
    "\n",
    "# save the weights\n",
    "# model.save_weights('Left_Right_Classifier.h5')\n",
    "\n",
    "model.load_weights('Left_Right_Classifier.h5')"
   ]
  },
  {
   "cell_type": "code",
   "execution_count": 543,
   "metadata": {},
   "outputs": [
    {
     "data": {
      "image/png": "[encoded data removed]",
      "text/plain": [
       "<Figure size 1440x432 with 2 Axes>"
      ]
     },
     "metadata": {
      "needs_background": "light"
     },
     "output_type": "display_data"
    }
   ],
   "source": [
    "# (b) show the learning process (training & testing accuracy and loss)\n",
    "accuracy = history.history['accuracy']\n",
    "val_accuracy = history.history['val_accuracy']\n",
    "loss = history.history['loss']\n",
    "val_loss = history.history['val_loss']\n",
    "epochs = range(1,len(accuracy)+1)\n",
    "\n",
    "plt.figure(figsize=(20,6))\n",
    "\n",
    "plt.subplot(121)\n",
    "plt.title(\"Accuracy vs Epoch\")\n",
    "plt.plot(epochs, accuracy, 'bo', label='Training')\n",
    "plt.plot(epochs, val_accuracy, 'r', label='Test')\n",
    "plt.xlabel('Epoch', size=14)\n",
    "plt.ylabel('Accuracy', size=14)\n",
    "plt.legend()\n",
    "plt.grid()\n",
    "\n",
    "plt.subplot(122)\n",
    "plt.title(\"Loss vs Epoch\")\n",
    "plt.plot(epochs, loss, 'bo', label='Training')\n",
    "plt.plot(epochs, val_loss, 'r', label='Test')\n",
    "plt.xlabel('Epoch', size=14)\n",
    "plt.ylabel('Loss', size=14)\n",
    "plt.legend()\n",
    "plt.grid()\n",
    "\n",
    "plt.show()"
   ]
  },
  {
   "cell_type": "code",
   "execution_count": 13,
   "metadata": {},
   "outputs": [],
   "source": [
    "from keras.preprocessing import image\n",
    "\n",
    "# The Left-Right Classifier Prediction Function\n",
    "def predict(img): \n",
    "    img = cv2.resize(img,(100,100),dst=True,interpolation=cv2.INTER_AREA) # resize\n",
    "    img = canny_filter(img) # apply filter\n",
    "    img = np.expand_dims(img,axis=0)\n",
    "    p_result = model.predict(img)\n",
    "    if p_result < 0.5: label = 'Left_Basket'\n",
    "    else: label = 'Right_Basket'\n",
    "    return label"
   ]
  },
  {
   "cell_type": "code",
   "execution_count": 14,
   "metadata": {},
   "outputs": [],
   "source": [
    "# Now Merge both models to make final prediction\n",
    "def made_basket_detection(image):\n",
    "    box_idx,classes,scores,boxes,basket_img,basket_label = yolo_detect(model=net,image=image,vis_raw_img=False)\n",
    "    \n",
    "\n",
    "    # if yolo fails to detect basket, return Fail_Detecting_Basket\n",
    "    if basket_label == 'Fail_Detecting_Basket': \n",
    "        return box_idx,classes,scores,boxes,basket_label \n",
    "    if basket_img is None:\n",
    "        return box_idx,classes,scores,boxes,basket_label\n",
    "        \n",
    "    def correct_yolo(basket_label,basket_correct): # correct the yolo's result \n",
    "        for box in box_idx:\n",
    "            if LABELS[classes[box]] == basket_label:\n",
    "                classes[box] = LABELS.index(basket_correct)\n",
    "\n",
    "    ## Re-identify the basket (Left or Right)\n",
    "    label = predict(rgb2bgr(basket_img)) \n",
    "    if label =='Left_Basket':\n",
    "        if basket_label in ['Empty_Basket_Left', 'Made_Basket_Left']:\n",
    "            basket_correct =  basket_label\n",
    "        elif basket_label in ['Empty_Basket_Right', 'Made_Basket_Right']:\n",
    "            basket_correct =  basket_label[:-5] + 'Left'\n",
    "            correct_yolo(basket_label,basket_correct) # correct the Class Labels\n",
    "    elif label == 'Right_Basket':\n",
    "        if basket_label in ['Empty_Basket_Left', 'Made_Basket_Left']:\n",
    "            basket_correct = basket_label[:-4] + 'Right'\n",
    "            correct_yolo(basket_label,basket_correct) # correct the Class Labels\n",
    "        elif basket_label in ['Empty_Basket_Right', 'Made_Basket_Right']:\n",
    "            basket_correct = basket_label\n",
    "\n",
    "    return box_idx,classes,scores,boxes,basket_correct\n"
   ]
  },
  {
   "cell_type": "code",
   "execution_count": 15,
   "metadata": {},
   "outputs": [
    {
     "name": "stdout",
     "output_type": "stream",
     "text": [
      "Result for Class LE: 9/10 accuracy is 0.9\n",
      "Result for Class LM: 8/15 accuracy is 0.533\n",
      "Result for Class RE: 8/10 accuracy is 0.8\n",
      "Result for Class RM: 6/15 accuracy is 0.4\n",
      "Result for 50 test images: 31/50 accuracy is 0.62\n"
     ]
    }
   ],
   "source": [
    "# Test Performance of the Final Merged Model\n",
    "import os\n",
    "class_dir = ['LE','LM','RE','RM']\n",
    "overall_c,overall = 0,0 \n",
    "for i in range(len(class_dir)):\n",
    "    label = class_dir[i]\n",
    "    data = os.listdir('Test_Set/'+ label)\n",
    "    correct_c = 0\n",
    "    for pic in data:\n",
    "        path = 'Test_Set/'+ label + '/' + pic\n",
    "        image = bgr2rgb(cv2.imread(path))\n",
    "        box_idx,classes,scores,boxes,basket_correct = made_basket_detection(image)\n",
    "        if basket_correct == LABELS[i+3]: correct_c+=1\n",
    "        # print(basket_correct)\n",
    "    overall_c += correct_c\n",
    "    overall += len(data)\n",
    "    print(\"Result for Class {}: {}/{} accuracy is {}\".format(label,correct_c,len(data),round(correct_c/len(data),3)))\n",
    "print(\"Result for {} test images: {}/{} accuracy is {}\".format(overall,overall_c,overall,round(overall_c/overall,3)))"
   ]
  },
  {
   "cell_type": "markdown",
   "metadata": {},
   "source": [
    "Test Result Visualize:"
   ]
  },
  {
   "cell_type": "code",
   "execution_count": 16,
   "metadata": {},
   "outputs": [
    {
     "data": {
      "image/png": "[encoded data removed]",
      "text/plain": [
       "<Figure size 1008x360 with 1 Axes>"
      ]
     },
     "metadata": {
      "needs_background": "light"
     },
     "output_type": "display_data"
    }
   ],
   "source": [
    "x = ['Left_Empty_Basket','Left_Made_Basket','Right_Empty_Basket','Right_Made_Basket']\n",
    "plt.figure(figsize=(14,5))\n",
    "plt.plot(x,[0.1,0.0,0.4,0.4],label='YOLO')\n",
    "plt.plot(x,[0.9,0.53,0.8,0.4],label='YOLO+CNN_Classifier')\n",
    "plt.legend()\n",
    "plt.grid()"
   ]
  },
  {
   "cell_type": "markdown",
   "metadata": {},
   "source": [
    "# Step3: Video nba_yolo_detection"
   ]
  },
  {
   "cell_type": "code",
   "execution_count": 17,
   "metadata": {},
   "outputs": [
    {
     "name": "stdout",
     "output_type": "stream",
     "text": [
      "Frame Length of the Video: 162393.0\n"
     ]
    }
   ],
   "source": [
    "video_path = \"/Users/tracy/Desktop/CS302/Final Project/VideoGames/Lakers_Nuggets.mkv\"\n",
    "# video_path = \"/Users/tracy/Desktop/CS302/Final Project/VideoGames/Nets_Warriors.mp4\"\n",
    "cap = cv2.VideoCapture(video_path)               # read the video\n",
    "w = int(cap.get(cv2.CAP_PROP_FRAME_WIDTH))       # read the frame width\n",
    "h = int(cap.get(cv2.CAP_PROP_FRAME_HEIGHT))      # read the frame height\n",
    "                            \n",
    "print(\"Frame Length of the Video: {}\".format(cap.get(cv2.CAP_PROP_FRAME_COUNT)))\n",
    "\n",
    "import progressbar\n",
    "widgets = [\"Finished Frames: \", progressbar.Percentage(),\" \", progressbar.Bar(), \" \", progressbar.ETA()]\n",
    "\n",
    "def video_nba_detection(video_cap,start,end,live_display=False):\n",
    "    assert start < end\n",
    "    writer = cv2.VideoWriter('Detected_VideoGames/frame{}to{}.mp4'.format(start,end), \n",
    "                                cv2.VideoWriter_fourcc(*'mp4v'), 30, (w, h))\n",
    "    pbar = progressbar.ProgressBar(maxval=end-start+1, widgets=widgets).start() # progress bar\n",
    "    basket_tracking = [] # basket status history\n",
    "    Lakers_count, Nuggets_count = 0,0 # record for both teams\n",
    "    making_basket = False # current basket status\n",
    "\n",
    "    for i in range(start,end+1): \n",
    "        video_cap.set(cv2.CAP_PROP_POS_FRAMES,i)\n",
    "        ret, bgrframe = video_cap.read()\n",
    "        image = bgr2rgb(bgrframe) # read each image\n",
    "        \n",
    "        box_idx,classes,scores,boxes,basket_correct = made_basket_detection(image) # model detection\n",
    "        basket_tracking.append(basket_correct)    #Record the basket status\n",
    "        result_img = vis_result(image,box_idx,classes,scores,boxes) # draw resulting boxes\n",
    "\n",
    "        # Draw Boxes for displaying \n",
    "        result_img = cv2.rectangle(result_img,(result_img.shape[1]//2-900,0),\n",
    "                                   (result_img.shape[1]//2-400,100),color=(255,255,255),thickness=8)\n",
    "        result_img = cv2.rectangle(result_img,(result_img.shape[1]//2+400,0),\n",
    "                                   (result_img.shape[1]//2+900,100),color=(255,255,255),thickness=8)\n",
    "        \n",
    "        # Customized_RULE_Based Counter\n",
    "        if i-start >= 10: # compute score since the 10th frame\n",
    "            if making_basket: # if the basket is being made\n",
    "                # DETECT if the BALL is LEAVING the Basket\n",
    "                empty_count = 0\n",
    "                for status in basket_tracking[-5:]:\n",
    "                    if status in ['Empty_Basket_Left','Empty_Basket_Right']: empty_count +=1\n",
    "                if empty_count >=3 and basket_correct in ['Empty_Basket_Left','Empty_Basket_Right']:\n",
    "                    making_basket = False\n",
    "            else: # if the basket is not being made\n",
    "                # DETECT if the BALL is GOing INSIDE the Basket\n",
    "                if (basket_correct in ['Made_Basket_Left','Made_Basket_Right']):\n",
    "                    left_made_count, right_made_count = 0, 0\n",
    "                    for status in basket_tracking[-6:]: \n",
    "                        if status == 'Made_Basket_Left': left_made_count +=1\n",
    "                        elif status == 'Made_Basket_Right': right_made_count +=1\n",
    "                        else: continue\n",
    "                    if left_made_count+right_made_count >= 4: # basket side == max(#left,#right)\n",
    "                        making_basket = True\n",
    "                        if left_made_count > right_made_count: Nuggets_count+=1\n",
    "                        else: Lakers_count += 1\n",
    "\n",
    "        # write down the counts for teams\n",
    "        result_img = cv2.putText(result_img, 'Lakers:{}'.format(Lakers_count), \n",
    "                                (result_img.shape[1]//2-880,50), cv2.FONT_HERSHEY_SIMPLEX, 1.7, (255, 255, 255), 8)\n",
    "        result_img = cv2.putText(result_img, 'Nuggets:{}'.format(Nuggets_count), \n",
    "                                (result_img.shape[1]//2+420,50), cv2.FONT_HERSHEY_SIMPLEX, 1.7, (255, 255, 255), 8)\n",
    "\n",
    "        # display the video with cv2.imshow\n",
    "        result_img = rgb2bgr(result_img)\n",
    "        if live_display:\n",
    "            cv2.imshow('frame',result_img)\n",
    "            k = cv2.waitKey(25)     # keep each img 25 ms\n",
    "            if k == 27: break       # stop criteria: press ESC\n",
    "            \n",
    "        # write into the video\n",
    "        writer.write(result_img)     \n",
    "        pbar.update(i+1-start)\n",
    "    pbar.finish()\n",
    "    writer.release()\n",
    "    if live_display: cv2.destroyAllWindows()"
   ]
  },
  {
   "cell_type": "markdown",
   "metadata": {},
   "source": [
    "Test some Segments in the test video Lakers_vs_Nuggets"
   ]
  },
  {
   "cell_type": "code",
   "execution_count": 653,
   "metadata": {},
   "outputs": [
    {
     "name": "stderr",
     "output_type": "stream",
     "text": [
      "Finished Frames: 100% |#########################################| Time: 0:33:56\n"
     ]
    }
   ],
   "source": [
    "video_nba_detection(cap,start=14000,end=17500,live_display=True)"
   ]
  },
  {
   "cell_type": "code",
   "execution_count": 540,
   "metadata": {},
   "outputs": [
    {
     "name": "stderr",
     "output_type": "stream",
     "text": [
      "Finished Frames: 100% |#########################################| Time: 0:00:30\n"
     ]
    }
   ],
   "source": [
    "video_nba_detection(cap,start=4800,end=4850,live_display=True)"
   ]
  }
 ],
 "metadata": {
  "interpreter": {
   "hash": "64bcadabe4cd61f3d117ba0da9d14bf2f8e35582ff79e821f2e71056f2723d1e"
  },
  "kernelspec": {
   "display_name": "Python 3.8.12 ('py38')",
   "language": "python",
   "name": "python3"
  },
  "language_info": {
   "codemirror_mode": {
    "name": "ipython",
    "version": 3
   },
   "file_extension": ".py",
   "mimetype": "text/x-python",
   "name": "python",
   "nbconvert_exporter": "python",
   "pygments_lexer": "ipython3",
   "version": "3.8.12"
  },
  "orig_nbformat": 4
 },
 "nbformat": 4,
 "nbformat_minor": 2
}
